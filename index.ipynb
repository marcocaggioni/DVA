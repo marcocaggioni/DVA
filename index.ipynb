{
 "cells": [
  {
   "cell_type": "code",
   "execution_count": 11,
   "metadata": {
    "collapsed": false,
    "extensions": {
     "jupyter_dashboards": {
      "version": 1,
      "views": {
       "grid_default": {},
       "report_default": {
        "hidden": true
       }
      }
     }
    },
    "run_control": {
     "frozen": false,
     "read_only": false
    }
   },
   "outputs": [],
   "source": [
    "%matplotlib inline\n",
    "import numpy\n",
    "import matplotlib\n",
    "from matplotlib import pylab, mlab, pyplot\n",
    "np = numpy\n",
    "plt = pyplot\n",
    "from matplotlib.pyplot import *\n",
    "import os\n",
    "import glob\n",
    "\n",
    "from IPython.display import display\n",
    "from IPython.core.pylabtools import figsize, getfigs\n",
    "\n",
    "from pylab import *\n",
    "from numpy import *\n",
    "\n",
    "import pandas as pd\n",
    "\n",
    "from ipywidgets.widgets import interact, interactive, fixed\n",
    "from ipywidgets import widgets\n",
    "from scipy import fftpack\n",
    "from IPython.display import display\n",
    "from PIL import Image\n",
    "import pims\n",
    "import scipy.optimize as optimization\n",
    "import pandas as pd\n",
    "\n",
    "import trackpy\n",
    "import warnings\n",
    "warnings.filterwarnings(\"ignore\")\n",
    "import io"
   ]
  },
  {
   "cell_type": "code",
   "execution_count": 12,
   "metadata": {
    "collapsed": false,
    "extensions": {
     "jupyter_dashboards": {
      "version": 1,
      "views": {
       "grid_default": {},
       "report_default": {
        "hidden": true
       }
      }
     }
    },
    "run_control": {
     "frozen": false,
     "read_only": false
    }
   },
   "outputs": [],
   "source": [
    "import os\n",
    "import re\n",
    "import glob\n",
    "\n",
    "def make_filelist(commonpath,pattern):\n",
    "    #commonpath=\"C:\\\\Users\\\\Public\\\\Pictures\\\\HS_XCS_EtOH_1545\"\n",
    "    #pattern = '*.xml'\n",
    "    filelist = []\n",
    "    for root, dirs, files in os.walk(commonpath):\n",
    "        filelist += glob.glob(os.path.join(root,pattern))\n",
    "    \n",
    "    return filelist\n",
    "\n",
    "filelist=make_filelist('./','')\n",
    "filelist=[item for item in filelist if item.split('_')[0][-4:]=='data']\n",
    "\n",
    "select_video_list=widgets.Dropdown(description='Video List',options=filelist)"
   ]
  },
  {
   "cell_type": "code",
   "execution_count": 13,
   "metadata": {
    "collapsed": false,
    "extensions": {
     "jupyter_dashboards": {
      "version": 1,
      "views": {
       "grid_default": {},
       "report_default": {
        "hidden": true
       }
      }
     }
    },
    "run_control": {
     "frozen": false,
     "read_only": false
    }
   },
   "outputs": [],
   "source": [
    "def update_data(sender):\n",
    "    global video\n",
    "    video=pims.ImageSequence(sender['new'])\n",
    "    video.info={}\n",
    "    video=calculate_variance_decay(video)\n",
    "    chi4({'new':1})\n",
    "    delta_video(1,1) \n",
    "    wid_delta_video.children[0].max=len(video)\n",
    "    wid_delta_video.children[1].max=len(video)\n",
    "\n",
    "\n",
    "def _calculate_diff_variance(video,framenum,delta):\n",
    "    \n",
    "    frames=len(video)    \n",
    "    im1=video[framenum].astype(np.float)\n",
    "    im2=video[framenum+delta].astype(np.float)\n",
    "    imdiff=im2-im1\n",
    "    return var(imdiff)\n",
    "\n",
    "def calculate_variance_decay(video,deltalist=None,naverage=50):\n",
    "    \n",
    "    frames=len(video)\n",
    "    \n",
    "    if not (deltalist):\n",
    "        deltalist=unique(logspace(0,log10(frames),num=20, endpoint=False, base=10.0,dtype=int))\n",
    "    \n",
    "    varlist=[]\n",
    "    var_varlist=[]\n",
    "    \n",
    "    for delta in deltalist:\n",
    "        framelist=range(0,frames-delta,int((frames-delta)/naverage))\n",
    "        varvalue=[]\n",
    "        for framenum in framelist:\n",
    "            varvalue.append(_calculate_diff_variance(video,framenum,delta))\n",
    "        varlist.append(mean(varvalue))\n",
    "        var_varlist.append(var(varvalue))\n",
    "        \n",
    "    variance_normalized=(varlist-min(varlist))/(max(varlist)-min(varlist))\n",
    "    video.info['variance_decay']=pd.DataFrame({'delta':deltalist,\n",
    "                                               'variance':varlist,\n",
    "                                               'var_normalized':variance_normalized,\n",
    "                                               'varvar':var_varlist})\n",
    "    \n",
    "    return video\n",
    "\n",
    "def plot_variance_decay(video):\n",
    "    plot(video.info['variance_decay'].deltat,video.info['variance_decay'].variance,'o')\n",
    "    errorbar(video.info['variance_decay'].deltat,video.info['variance_decay'].variance,xerr=0,yerr=video.info['variance_decay'].varvar)\n",
    "    xscale('log')\n",
    "    xlabel('leg time [s]')\n",
    "    ylabel('diff frame mean variance')\n",
    "    \n",
    "def delta_video(frame,delta):\n",
    "    fig, ax = subplots(figsize=(5,5));\n",
    "\n",
    "    im1=video[frame].astype(np.float)\n",
    "    im2=video[frame+delta].astype(np.float)\n",
    "    imdiff=im2-im1\n",
    "    ax.imshow(imdiff,cmap=my_cmap); #vmin=-180, vmax=180\n",
    "    ax.axis('off')\n",
    "    ax.axis('equal')\n",
    "\n",
    "    output=io.BytesIO()\n",
    "    fig.savefig(output,type='jpg',width=640,height=480);\n",
    "    close(fig)\n",
    "    wid_interact.value = output.getvalue();\n",
    "    output.close();\n",
    "    \n",
    "    ax.imshow(im2,cmap='gray');\n",
    "    ax.axis('off')\n",
    "    ax.axis('equal')\n",
    "    output=io.BytesIO()\n",
    "    fig.savefig(output,type='jpg',width=640,height=480);\n",
    "    close(fig)\n",
    "    wid_orig.value = output.getvalue();\n",
    "    output.close();\n",
    "    \n",
    "def chi4(delta):\n",
    "    fig, ax = subplots(figsize=(5,5));\n",
    "    \n",
    "    ax.plot(video.info['variance_decay']['delta'],video.info['variance_decay']['varvar'])\n",
    "    xlabel('delta frames')\n",
    "    ylabel('$\\chi_4$')\n",
    "    xscale('log')\n",
    "    ax.axvline(delta['new'],color='r')\n",
    "\n",
    "    output=io.BytesIO()\n",
    "    fig.savefig(output,type='jpg',width=640,height=480);\n",
    "    close(fig)\n",
    "    wid_chi4.value = output.getvalue();\n",
    "    output.close();\n",
    "    \n",
    "    wid_delta_video.children[0].max=len(video)-1-delta['new']"
   ]
  },
  {
   "cell_type": "code",
   "execution_count": 14,
   "metadata": {
    "collapsed": false,
    "extensions": {
     "jupyter_dashboards": {
      "version": 1,
      "views": {
       "grid_default": {},
       "report_default": {
        "hidden": true
       }
      }
     }
    },
    "run_control": {
     "frozen": false,
     "read_only": false
    }
   },
   "outputs": [],
   "source": [
    "select_video_list.observe(update_data, names='value')\n",
    "\n",
    "wid_chi4=widgets.Image()\n",
    "wid_chi4.height=350\n",
    "wid_chi4.width=350\n",
    "\n",
    "wid_interact=widgets.Image()\n",
    "wid_interact.height=300\n",
    "wid_interact.width=300\n",
    "\n",
    "wid_orig=widgets.Image()\n",
    "wid_orig.height=300\n",
    "wid_orig.width=300\n",
    "\n",
    "wid_delta_video=widgets.interactive(delta_video,\n",
    "                                    frame=widgets.IntSlider(min=0, max=100, step=1, value=0),\n",
    "                                    delta=widgets.IntSlider(min=1, max=100, step=1, value=0))\n",
    "wid_delta_video.children[1].observe(chi4,names='value')\n",
    "my_cmap = matplotlib.cm.get_cmap('seismic')\n",
    "\n",
    "play_video=widgets.Play(description='Play',interval=100,min=0,max=wid_delta_video.children[0].max)\n",
    "widgets.jslink((play_video, 'value'), (wid_delta_video.children[0], 'value'))\n",
    "widgets.jslink((play_video, 'max'), (wid_delta_video.children[0], 'max'))\n",
    "widgets.jslink((play_video, 'step'), (wid_delta_video.children[1], 'value'))"
   ]
  },
  {
   "cell_type": "code",
   "execution_count": 15,
   "metadata": {
    "collapsed": false,
    "extensions": {
     "jupyter_dashboards": {
      "version": 1,
      "views": {
       "grid_default": {},
       "report_default": {
        "hidden": false
       }
      }
     }
    },
    "run_control": {
     "frozen": false,
     "read_only": false
    }
   },
   "outputs": [],
   "source": [
    "display(select_video_list)\n",
    "update_data({'new':select_video_list.value})\n"
   ]
  },
  {
   "cell_type": "code",
   "execution_count": 6,
   "metadata": {
    "collapsed": false,
    "extensions": {
     "jupyter_dashboards": {
      "version": 1,
      "views": {
       "grid_default": {},
       "report_default": {
        "hidden": false
       }
      }
     }
    },
    "run_control": {
     "frozen": false,
     "read_only": false
    }
   },
   "outputs": [],
   "source": [
    "display(wid_delta_video)\n",
    "display(widgets.HBox(children=[wid_orig,wid_chi4,wid_interact]))\n",
    "display(play_video)"
   ]
  }
 ],
 "metadata": {
  "anaconda-cloud": {},
  "extensions": {
   "jupyter_dashboards": {
    "activeView": "report_default",
    "version": 1,
    "views": {
     "grid_default": {
      "name": "grid",
      "type": "grid"
     },
     "report_default": {
      "name": "report",
      "type": "report"
     }
    }
   }
  },
  "hide_input": true,
  "kernelspec": {
   "display_name": "Python [default]",
   "language": "python",
   "name": "python3"
  },
  "language_info": {
   "codemirror_mode": {
    "name": "ipython",
    "version": 3
   },
   "file_extension": ".py",
   "mimetype": "text/x-python",
   "name": "python",
   "nbconvert_exporter": "python",
   "pygments_lexer": "ipython3",
   "version": "3.5.2"
  },
  "latex_envs": {
   "bibliofile": "biblio.bib",
   "cite_by": "apalike",
   "current_citInitial": 1,
   "eqLabelWithNumbers": true,
   "eqNumInitial": 0
  },
  "widgets": {
   "state": {
    "0e256ba9383b4c4ea50b52ea7ea30bed": {
     "views": [
      {
       "cell_index": 5
      }
     ]
    },
    "139177b4d46240198fe668092bae85b1": {
     "views": [
      {
       "cell_index": 5
      }
     ]
    },
    "228f2303ec434723a22f2dde860d0a66": {
     "views": [
      {
       "cell_index": 5
      }
     ]
    },
    "5e7065bc77cf4afdb58a5ac649dba8e0": {
     "views": [
      {
       "cell_index": 5
      }
     ]
    },
    "5efc060add8046ac94016dedc9837d40": {
     "views": [
      {
       "cell_index": 5
      }
     ]
    },
    "811be24e1bea414988260ee6f4a8c172": {
     "views": [
      {
       "cell_index": 4
      }
     ]
    },
    "8fbccdeb8fc342f68dc415f5f761229d": {
     "views": [
      {
       "cell_index": 4
      }
     ]
    },
    "a1289037bbf14fd98195da517c387873": {
     "views": [
      {
       "cell_index": 5
      }
     ]
    },
    "c588c38ecf33453cbe1092a8b8083808": {
     "views": [
      {
       "cell_index": 5
      }
     ]
    },
    "cf299634d5414d6388a6a4dc7e1de0ba": {
     "views": [
      {
       "cell_index": 5
      }
     ]
    },
    "e3caab8c2f314011849107c087651957": {
     "views": [
      {
       "cell_index": 4
      }
     ]
    },
    "ed516b1f84b94e16bd56d9a9df1bf314": {
     "views": [
      {
       "cell_index": 5
      }
     ]
    },
    "f8ef5318243e4a8f92ca174ed8df5775": {
     "views": [
      {
       "cell_index": 4
      }
     ]
    }
   },
   "version": "1.2.0"
  }
 },
 "nbformat": 4,
 "nbformat_minor": 0
}
