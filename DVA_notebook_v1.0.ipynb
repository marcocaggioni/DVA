{
 "cells": [
  {
   "cell_type": "markdown",
   "metadata": {},
   "source": [
    "# DVA Notebook\n",
    "### by Raffaele Pastore (CNR-SPIN, Napoli) and Marco Caggioni (P&G, Cincinnati)\n",
    "\n",
    "This notebook is similar to the one used in Ref [1].\n",
    "It is aimed at applying DVA to digital videos of soft matter sample at equilibrium or in steady state conditions.\n",
    "\n",
    "If not indicated otherwise, symbols and nomenclature are as in Ref [1].\n",
    "\n",
    "A sample video can be downloaded at... \n",
    "Filename and required parameters are adjusted to fit the sample video features. Change them appropriately if you are using a different video.\n",
    "\n",
    "\n",
    "We are currently managing to upload a step-by-step tutorial notebook asap.\n",
    "\n",
    "If DVA or this DVA notebook contributes to a scientific publication, please acknowledge this fact by citing Ref[1] \n",
    "\n",
    "#### [1] R. Pastore, G. Pesce and M. Caggioni, Differential Variance Analysis: a direct method to quantify and visualize dynamic heterogeneities, Sci. Rep. (2017). \n",
    "\n",
    "\n"
   ]
  },
  {
   "cell_type": "code",
   "execution_count": 1,
   "metadata": {
    "collapsed": true,
    "run_control": {
     "frozen": false,
     "read_only": false
    }
   },
   "outputs": [],
   "source": [
    "#import required libraries\n",
    "%matplotlib inline\n",
    "from math import pi\n",
    "import numpy\n",
    "import matplotlib\n",
    "from matplotlib import pylab, mlab, pyplot\n",
    "np = numpy\n",
    "plt = pyplot\n",
    "from matplotlib.pyplot import *\n",
    "import os\n",
    "import glob\n",
    "\n",
    "from IPython.display import display\n",
    "from IPython.core.pylabtools import figsize, getfigs\n",
    "\n",
    "from pylab import *\n",
    "from numpy import *\n",
    "\n",
    "import pandas as pd\n",
    "\n",
    "from ipywidgets.widgets import interact, interactive, fixed\n",
    "from ipywidgets import widgets\n",
    "from scipy import fftpack\n",
    "from IPython.display import display\n",
    "from PIL import Image\n",
    "import pims\n",
    "import scipy.optimize as optimization\n",
    "import pandas as pd\n",
    "import pymongo\n",
    "\n",
    "import trackpy\n",
    "import warnings\n",
    "warnings.filterwarnings(\"ignore\")"
   ]
  },
  {
   "cell_type": "markdown",
   "metadata": {},
   "source": [
    "## General video requirements\n",
    "Let us indicate with $\\tau_{br}$ an estimation, even broad, of the structural relaxation time of the imaged sample, with $t_v$ the overall video duration and with $t_f$ the time interval between subsequent frames ($t_f=fps^{-1}$).  \n",
    "\n",
    "Your video should comply with the following reuirements for DVA to be fully applicable:\n",
    "\n",
    "1) $t_v>\\tau_{br}$   (e.g. $t_v=10\\tau_{br}$ or larger)\n",
    "\n",
    "2) $t_f\\ll \\tau_{br}$ (e.g. $t_f=0.01\\tau_{br}$ or smaller)\n",
    "\n"
   ]
  },
  {
   "cell_type": "code",
   "execution_count": 2,
   "metadata": {
    "code_folding": [],
    "collapsed": false,
    "run_control": {
     "frozen": false,
     "read_only": false
    }
   },
   "outputs": [],
   "source": [
    "# define video object\n",
    "\n",
    "filename='vacq00_vf071/*.tif' #this is the name of the sample video. \n",
    "#Change it with the appropriate filename, if you are using a different video\n",
    "\n",
    "video=trackpy.ImageSequence(filename)\n",
    "info={'interval': 0.5, #interval between frames in sec\n",
    "      'muperpix': 0.152, #spacial calibration of the image micron per pixel\n",
    "      'filename': filename,\n",
    "      'phi':0.71\n",
    "     }\n",
    "video.info=info\n",
    "#video.frame_shape[0]\n",
    "#len(video)"
   ]
  },
  {
   "cell_type": "markdown",
   "metadata": {},
   "source": [
    "## Preliminary estimation of the relaxation time\n",
    "\n",
    "To check wheter your video complies with the above criteria and proceed with full DVA, you should know a broad estimation of your system structural relaxation time, at least as order of magnitude. \n",
    "You may already have an idea about this, for example from a previous experiment. If this is not the case, you can use DVA to have a  preliminary estimation of the relaxation time. The simplest way to do this consists in calculating the non-averaged differential variance $\\hat V(0, $\\Delta t$)$, as in the cell below. Then, you can get $\\tau_{br}$ as the time where the variance rougly attains $2/3$ of its plateau value."
   ]
  },
  {
   "cell_type": "code",
   "execution_count": 3,
   "metadata": {
    "collapsed": false
   },
   "outputs": [],
   "source": [
    "def get_nonaveraged_var(video):\n",
    "    total_frames=len(video)-1\n",
    "    delta_list=list(range(1,total_frames,10)) #list of lag-times\n",
    "    temp_frame=[]\n",
    "    list_single_var=[]\n",
    "    \n",
    "    for delta in delta_list:\n",
    "        im1=video[0].astype(np.float)\n",
    "        im2=video[delta].astype(np.float)\n",
    "        im_diff=im2-im1\n",
    "               \n",
    "        list_single_var.append(var(im_diff))\n",
    "    \n",
    "    result_tau=pd.DataFrame({'delta':delta_list,'variance':list_single_var}) \n",
    "    return result_tau\n",
    "    "
   ]
  },
  {
   "cell_type": "code",
   "execution_count": 4,
   "metadata": {
    "collapsed": false
   },
   "outputs": [],
   "source": [
    "result_tau=get_nonaveraged_var(video)"
   ]
  },
  {
   "cell_type": "code",
   "execution_count": 6,
   "metadata": {
    "collapsed": false
   },
   "outputs": [
    {
     "data": {
      "image/png": "[encoded data removed]",
      "text/plain": [
       "<matplotlib.figure.Figure at 0x1190a0240>"
      ]
     },
     "metadata": {},
     "output_type": "display_data"
    }
   ],
   "source": [
    "plot(result_tau.delta,result_tau.variance,'o')\n",
    "axhline(4250*2/3) #\\simeq 2/3*plateau_value\n",
    "xscale('log')\n"
   ]
  },
  {
   "cell_type": "markdown",
   "metadata": {},
   "source": [
    "If your variance does not attain a plateu, your video is probably too short ($t_v$ is smaller or similar to $\\tau_{br}$). If your variance is flat, the acquisition rate is probably too large ($t_v \\simeq \\tau_{br}$ or larger). Otherwise, fix the value of $\\tau_{br}$ and go ahead."
   ]
  },
  {
   "cell_type": "code",
   "execution_count": 7,
   "metadata": {
    "collapsed": false
   },
   "outputs": [],
   "source": [
    "#rough estimation of relaxation time, V(tau_br)/plateau_value=2/3\n",
    "global tau_br\n",
    "tau_br=100 # [frames] "
   ]
  },
  {
   "cell_type": "markdown",
   "metadata": {},
   "source": [
    "## Differential Variance Analysis"
   ]
  },
  {
   "cell_type": "code",
   "execution_count": 9,
   "metadata": {
    "collapsed": false,
    "run_control": {
     "frozen": false,
     "read_only": false
    }
   },
   "outputs": [],
   "source": [
    "#definition of get_DVA\n",
    "\n",
    "def get_DVA(video):\n",
    "    '''Input: video object\n",
    "       Output: Dataframe col1 - Dt, col2 - sigma intensity\n",
    "       Exmple: sigma_intensity=get_sigma_intensity(video,deltalist)\n",
    "    '''\n",
    "\n",
    "#variables\n",
    "    phi=video.info['phi'] #volume fraction\n",
    "    L=video.frame_shape[0]*video.info['muperpix']#microns    system size\n",
    "    A=L*L #microns^2  = field of view  \n",
    "    As=pi*((2.31/2)**2.0) # microns^2= small particle area\n",
    "    Al=pi*((3.16/2)**2.0) # microns^2= small particle area\n",
    "    N=phi*2*A/(As+Al) #estimation of the total number in the field of view\n",
    "    print('N=' + str(N))\n",
    "\n",
    "    ########## ADJUSTING PARAMETERS #################\n",
    "    total_frames=len(video)-1\n",
    "       \n",
    "    delta_max=50*tau_br # should be larger than tau_br, but smaller than total_frames\n",
    "    \n",
    "    global n_average\n",
    "    n_average=100\n",
    "    \n",
    "           \n",
    "    global delta_step\n",
    "    delta_step=1 #[frames] desired step between lag-time (much smaller than tau_br)\n",
    "    asympt_var=0 # this corresponds to V_{\\infty}    \n",
    "    t_asympt=100 # number of last frames to estimate V_{\\infty}\n",
    "    #####################################\n",
    "    \n",
    "    \n",
    "    mean_var=[] # Average variance\n",
    "    mean_square_var=[] #Average of the square variance \"\"\n",
    "    square_mean_var=[] # square of the average variance \"\"    \n",
    "    delta_list=list(range(1,delta_max,delta_step)) #list of lag-times\n",
    "    delta_t=[]\n",
    "    \n",
    "    print('delta_max=' + str(delta_max))\n",
    "    print('delta_step=' + str(delta_step))\n",
    "\n",
    "#AVERAGING PROTOCOL: Besides that reported below, other averaging protocols\n",
    "#can be fully appropriate and provide similar results.\n",
    "    for delta in delta_list:\n",
    "        iframe_step=int(1+(total_frames-delta)/n_average) \n",
    "#delay between replicas. This parameter is used in averaging.\n",
    "#As far as iframe_step>tau_br, one is considering fully uncorrelated replicas. \n",
    "#However, this is not always possible due to large tau_br and limited video duration (your video barely complies with reqirement 1), \n",
    "#and one should include correlated replicas.        \n",
    "        delta_t.append(delta*video.info['interval'])\n",
    "        temp_frame=[]\n",
    "        \n",
    "        for frame in range(0,total_frames-delta,iframe_step): \n",
    "            im1=video[frame].astype(np.float)\n",
    "            im2=video[frame+delta].astype(np.float)\n",
    "            im_diff=im2-im1\n",
    "\n",
    "            temp_frame.append(im_diff)\n",
    "        \n",
    "        list_single_var=list(map(var,temp_frame))\n",
    "        \n",
    "        mean_var.append(mean(list_single_var))\n",
    "        \n",
    "        square_mean_var.append(mean(list_single_var)**2.0)\n",
    "        mean_square_var.append(mean(list(map(square,list_single_var))))\n",
    "    \n",
    "    asympt_var=mean(mean_var[-t_asympt:]) #estimation of the platea value V_{\\infty}\n",
    "    print('asympt_var=' + str(asympt_var))\n",
    "    \n",
    "    result=pd.DataFrame({'delta':delta_list,'delta_t':delta_t,'mean_var':mean_var,\n",
    "                         'square_mean_var':square_mean_var,'mean_square_var':mean_square_var})\n",
    "    \n",
    "    result['dop']=(1-result.mean_var/asympt_var) #dynamic order parameter\n",
    "    result['chi_4']=(N*(result.mean_square_var-result.square_mean_var)/(asympt_var*asympt_var)) # dynamic susceptibility\n",
    "    \n",
    "    return result"
   ]
  },
  {
   "cell_type": "code",
   "execution_count": null,
   "metadata": {
    "collapsed": false,
    "run_control": {
     "frozen": false,
     "read_only": false
    }
   },
   "outputs": [
    {
     "name": "stdout",
     "output_type": "stream",
     "text": [
      "N=628.1468107346243\n",
      "delta_max=5000\n",
      "delta_step=1\n"
     ]
    }
   ],
   "source": [
    "result=get_DVA(video)"
   ]
  },
  {
   "cell_type": "code",
   "execution_count": null,
   "metadata": {
    "collapsed": false,
    "run_control": {
     "frozen": false,
     "read_only": false
    }
   },
   "outputs": [],
   "source": [
    "#This cell allows to save the results in a csv file\n",
    "result.to_csv('your_data_folder/your_datafile.dat',sep='\\t',header=False)"
   ]
  },
  {
   "cell_type": "markdown",
   "metadata": {},
   "source": [
    "### Average Differential Variance, $V(t)$"
   ]
  },
  {
   "cell_type": "code",
   "execution_count": null,
   "metadata": {
    "collapsed": false,
    "run_control": {
     "frozen": false,
     "read_only": false
    }
   },
   "outputs": [],
   "source": [
    "plot(result.delta_t,result.mean_var,'o')\n",
    "xscale('log')\n",
    "xlabel('$\\Delta t$ [s]', fontsize=20)\n",
    "ylabel('$V$', fontsize=20)\n",
    "xlim(0.1,3000)"
   ]
  },
  {
   "cell_type": "markdown",
   "metadata": {},
   "source": [
    "### Dynamic Order Parameter, $Q(t)$"
   ]
  },
  {
   "cell_type": "code",
   "execution_count": null,
   "metadata": {
    "collapsed": false,
    "run_control": {
     "frozen": false,
     "read_only": false
    }
   },
   "outputs": [],
   "source": [
    "plot(result.delta_t,result.dop,'o')\n",
    "xscale('log')\n",
    "xlabel('$\\Delta t$ [s]', fontsize=20)\n",
    "ylabel('$Q$', fontsize=20)"
   ]
  },
  {
   "cell_type": "markdown",
   "metadata": {},
   "source": [
    "### Relaxation time, $\\tau$\n",
    "$Q(\\tau)=1/e$"
   ]
  },
  {
   "cell_type": "code",
   "execution_count": null,
   "metadata": {
    "collapsed": false
   },
   "outputs": [],
   "source": [
    "tau=max(result.delta_t[result.dop>1/math.e]) \n",
    "tau #[s]"
   ]
  },
  {
   "cell_type": "markdown",
   "metadata": {},
   "source": [
    "### Dynamic Susceptibility, $\\chi_4(t)$"
   ]
  },
  {
   "cell_type": "code",
   "execution_count": null,
   "metadata": {
    "collapsed": false,
    "run_control": {
     "frozen": false,
     "read_only": false
    }
   },
   "outputs": [],
   "source": [
    "plot(result.delta_t,result.chi_4, '.',label=str(video.info['phi']))\n",
    "legend()\n",
    "xlabel('t [s]', fontsize=20)\n",
    "ylabel('$\\chi_{4}$', fontsize=20)\n",
    "xscale('log')\n",
    "\n",
    "#Dynamic susceptibility data are usually shown using logarithimic time.\n",
    "#You may perform a running average over logarithmically scaled times and get a smoother curve."
   ]
  },
  {
   "cell_type": "markdown",
   "metadata": {},
   "source": [
    "### Maximum value, $\\chi*$, and time, $t*$, of the dynamic susceptibility"
   ]
  },
  {
   "cell_type": "code",
   "execution_count": null,
   "metadata": {
    "collapsed": false
   },
   "outputs": [],
   "source": [
    "chi4_max=max(result.chi_4) \n",
    "\n",
    "t_max=max(result.delta_t[result.chi_4==chi4_max]) \n"
   ]
  },
  {
   "cell_type": "code",
   "execution_count": null,
   "metadata": {
    "collapsed": false
   },
   "outputs": [],
   "source": [
    "chi4_max "
   ]
  },
  {
   "cell_type": "code",
   "execution_count": null,
   "metadata": {
    "collapsed": false
   },
   "outputs": [],
   "source": [
    "t_max # [s]"
   ]
  },
  {
   "cell_type": "code",
   "execution_count": null,
   "metadata": {
    "collapsed": false,
    "run_control": {
     "frozen": false,
     "read_only": false
    }
   },
   "outputs": [],
   "source": [
    "#show results\n",
    "result"
   ]
  },
  {
   "cell_type": "code",
   "execution_count": null,
   "metadata": {
    "collapsed": true
   },
   "outputs": [],
   "source": []
  }
 ],
 "metadata": {
  "anaconda-cloud": {},
  "hide_input": false,
  "kernelspec": {
   "display_name": "Python [Root]",
   "language": "python",
   "name": "Python [Root]"
  },
  "language_info": {
   "codemirror_mode": {
    "name": "ipython",
    "version": 3
   },
   "file_extension": ".py",
   "mimetype": "text/x-python",
   "name": "python",
   "nbconvert_exporter": "python",
   "pygments_lexer": "ipython3",
   "version": "3.5.1"
  },
  "latex_envs": {
   "bibliofile": "biblio.bib",
   "cite_by": "apalike",
   "current_citInitial": 1,
   "eqLabelWithNumbers": true,
   "eqNumInitial": 0
  }
 },
 "nbformat": 4,
 "nbformat_minor": 0
}
